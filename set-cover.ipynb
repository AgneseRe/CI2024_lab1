{
 "cells": [
  {
   "cell_type": "markdown",
   "metadata": {},
   "source": [
    "# Set Cover problem\n",
    "\n",
    "See: https://en.wikipedia.org/wiki/Set_cover_problem"
   ]
  },
  {
   "cell_type": "code",
   "execution_count": 168,
   "metadata": {},
   "outputs": [],
   "source": [
    "from random import random, seed\n",
    "from itertools import accumulate\n",
    "import numpy as np\n",
    "from icecream import ic\n",
    "from matplotlib import pyplot as plt"
   ]
  },
  {
   "cell_type": "markdown",
   "metadata": {},
   "source": [
    "## Reproducible Initialization\n",
    "\n",
    "If you want to get reproducible results, use `rng` (and restart the kernel); for non-reproducible ones, use `np.random`. "
   ]
  },
  {
   "cell_type": "code",
   "execution_count": 169,
   "metadata": {},
   "outputs": [],
   "source": [
    "UNIVERSE_SIZE = 100_000\n",
    "NUM_SETS = 10_000\n",
    "DENSITY = 0.1\n",
    "\n",
    "rng = np.random.Generator(np.random.PCG64([UNIVERSE_SIZE, NUM_SETS, int(10_000 * DENSITY)]))"
   ]
  },
  {
   "cell_type": "markdown",
   "metadata": {},
   "source": [
    "Generate a boolean 2D array of shape (`NUM_SETS`, `UNIVERSE_SIZE`). Each element will be `True` if the random floating-point number is less than `DENSITY`, `False` otherwise. Guarantee that each element of the universe (each column in `SETS` collection) is included in at least one set (each column in the `SETS` array has at least one `True` value). At the end, calculate the cost for each set in `SETS`, where the cost increases non-linearly with the number of elements in the set."
   ]
  },
  {
   "cell_type": "code",
   "execution_count": 170,
   "metadata": {},
   "outputs": [],
   "source": [
    "# DON'T EDIT THESE LINES!\n",
    "\n",
    "SETS = np.random.random((NUM_SETS, UNIVERSE_SIZE)) < DENSITY\n",
    "for s in range(UNIVERSE_SIZE):\n",
    "    if not np.any(SETS[:, s]):\n",
    "        SETS[np.random.randint(NUM_SETS), s] = True\n",
    "COSTS = np.pow(SETS.sum(axis=1), 1.1)"
   ]
  },
  {
   "cell_type": "markdown",
   "metadata": {},
   "source": [
    "## Helper Functions"
   ]
  },
  {
   "cell_type": "code",
   "execution_count": 171,
   "metadata": {},
   "outputs": [],
   "source": [
    "def valid(solution):\n",
    "    \"\"\"Checks wether solution is valid (ie. covers all universe)\"\"\"\n",
    "    return np.all(np.logical_or.reduce(SETS[solution]))\n",
    "\n",
    "\n",
    "def cost(solution):\n",
    "    \"\"\"Returns the cost of a solution (to be minimized)\"\"\"\n",
    "    return COSTS[solution].sum()"
   ]
  },
  {
   "cell_type": "markdown",
   "metadata": {},
   "source": [
    "## Have Fun!"
   ]
  },
  {
   "cell_type": "code",
   "execution_count": 172,
   "metadata": {},
   "outputs": [
    {
     "data": {
      "text/plain": [
       "(np.True_, np.float64(251170953.2179876))"
      ]
     },
     "execution_count": 172,
     "metadata": {},
     "output_type": "execute_result"
    }
   ],
   "source": [
    "# A dumb solution of \"all\" sets\n",
    "dumb_solution = np.full(NUM_SETS, True)\n",
    "valid(dumb_solution), cost(dumb_solution)"
   ]
  },
  {
   "cell_type": "markdown",
   "metadata": {},
   "source": [
    "## RMHC (Random Mutation Hill Climbing)\n",
    "\n",
    "Hill climbing algorithm has the tendency to become stuck in suboptimal regions (local optima) since it only accepts improvements. It works fine in convex search spaces. Two functions are implemented.\n",
    "- `single_mutation`: only one element of the solution array is randomly selected and flipped. Small and localized change in the solution (*exploitation*);\n",
    "- `multiple_mutation`: several elements of the solution array are mutated simultaneously. More aggressive changes (*exploration*);\n",
    "- `multiple_mutation_strength`: a different number of elements in the solution array are mutated, depending on the value of `strength` parameter. It is possible to adjust it during the process of optimization (high strength at the start for more exploration, lower strength as the search narrows in on good solutions for fine-tuning). We are using this function in the next example."
   ]
  },
  {
   "cell_type": "code",
   "execution_count": 173,
   "metadata": {},
   "outputs": [],
   "source": [
    "def single_mutation(solution: np.ndarray) -> np.ndarray:\n",
    "    new_solution = solution.copy()\n",
    "    random_set = rng.integers(0, NUM_SETS)\n",
    "    new_solution[random_set] = not new_solution[random_set]\n",
    "    return new_solution\n",
    "\n",
    "def multiple_mutation(solution: np.ndarray) -> np.ndarray:\n",
    "    mask = rng.random(NUM_SETS) < 0.01  # Only 1% of the elements in the solution array have a chance of being mutated\n",
    "    new_solution = np.logical_xor(solution, mask)\n",
    "    return new_solution\n",
    "\n",
    "def multiple_mutation_strength(solution: np.ndarray, strength: float = 0.3) -> np.ndarray:\n",
    "    mask = rng.random(NUM_SETS) < strength\n",
    "    # Ensures that the function always mutates at least one bit\n",
    "    if not np.any(mask):\n",
    "        mask[np.random.randint(NUM_SETS)] = True\n",
    "    new_solution = np.logical_xor(solution, mask)\n",
    "    return new_solution\n",
    "\n",
    "def fitness(solution: np.ndarray) -> tuple[bool, float]:\n",
    "    return (valid(solution), -cost(solution))"
   ]
  },
  {
   "cell_type": "markdown",
   "metadata": {},
   "source": [
    "Start with a random solution. Greedy solution can lead to a local optima (**basins of attraction**). It is possible not to identify a global optima.\n",
    "\n",
    "&#9888; This algorithm is not optimal. It does not yield accurate solutions and requires a significant amount of time to complete. If you want, uncomment the next section of code and try the algorithm on the first two instances."
   ]
  },
  {
   "cell_type": "code",
   "execution_count": 174,
   "metadata": {},
   "outputs": [
    {
     "data": {
      "text/plain": [
       "'\\nstrength = 0.5  # High strength at the beginning of the optimization process\\n\\nsolution = rng.random(NUM_SETS) < 1   # A random solution of all True\\nsolution_fitness = fitness(solution)\\nic(solution_fitness)\\nhistory = [float(solution_fitness[1])]\\n\\n\\nfor steps in range(10_000):\\n    if steps % 1000:\\n        strength /= 2   # decrease strength (mutation rate)\\n    new_solution = multiple_mutation_strength(solution)\\n    history.append(float(fitness(new_solution)[1]))\\n    if fitness(new_solution) > solution_fitness:\\n        solution = new_solution\\n        solution_fitness = fitness(solution)\\n\\nic(fitness(solution))\\n\\nplt.figure(figsize=(14, 8))\\nplt.plot(range(len(history)), list(accumulate(history, max)), color = \"red\")\\n_ = plt.scatter(range(len(history)), history, marker=\".\")\\nplt.xlabel(\"Iterations\")\\nplt.ylabel(\"Fitness\")\\n'"
      ]
     },
     "execution_count": 174,
     "metadata": {},
     "output_type": "execute_result"
    }
   ],
   "source": [
    "\"\"\"\n",
    "strength = 0.5  # High strength at the beginning of the optimization process\n",
    "\n",
    "solution = rng.random(NUM_SETS) < 1   # A random solution of all True\n",
    "solution_fitness = fitness(solution)\n",
    "ic(solution_fitness)\n",
    "history = [float(solution_fitness[1])]\n",
    "\n",
    "\n",
    "for steps in range(10_000):\n",
    "    if steps % 1000:\n",
    "        strength /= 2   # decrease strength (mutation rate)\n",
    "    new_solution = multiple_mutation_strength(solution)\n",
    "    history.append(float(fitness(new_solution)[1]))\n",
    "    if fitness(new_solution) > solution_fitness:\n",
    "        solution = new_solution\n",
    "        solution_fitness = fitness(solution)\n",
    "\n",
    "ic(fitness(solution))\n",
    "\n",
    "plt.figure(figsize=(14, 8))\n",
    "plt.plot(range(len(history)), list(accumulate(history, max)), color = \"red\")\n",
    "_ = plt.scatter(range(len(history)), history, marker=\".\")\n",
    "plt.xlabel(\"Iterations\")\n",
    "plt.ylabel(\"Fitness\")\n",
    "\"\"\""
   ]
  },
  {
   "cell_type": "markdown",
   "metadata": {},
   "source": [
    "## Tabu Search"
   ]
  },
  {
   "cell_type": "code",
   "execution_count": 175,
   "metadata": {},
   "outputs": [],
   "source": [
    "# Tabu parameters\n",
    "ITERATION_NO_IMPROVEMENTS = 100\n",
    "TABU_SIZE = 100   # int(UNIVERSE_SIZE * 0.10)"
   ]
  },
  {
   "cell_type": "markdown",
   "metadata": {},
   "source": [
    "### Starting from a greedy solution\n",
    "Using a *greedy approach*, iteratively select the subset that covers the largest number of uncovered elements, continuing until all elements of the universe are covered. At each step, choose the locally optimal solution (the subset with the greatest immediate coverage), without backtracking, in order to build a solution that is efficient but not necessarily globally optimal."
   ]
  },
  {
   "cell_type": "code",
   "execution_count": 176,
   "metadata": {},
   "outputs": [],
   "source": [
    "def greedy_initial_solution():\n",
    "    solution = []   # [np.int64(0), np.int64(1), np.int64(2), np.int64(4)]\n",
    "    not_covered_elements = np.ones(UNIVERSE_SIZE, dtype = bool)     # no element is covered\n",
    "    \n",
    "    while np.any(not_covered_elements): # until all elements are covered\n",
    "        coverage = np.dot(SETS, not_covered_elements)\n",
    "        selected_set = np.argmax(coverage)\n",
    "        solution.append(selected_set)\n",
    "        not_covered_elements = np.logical_and(not_covered_elements, ~SETS[selected_set])\n",
    "    \n",
    "    boolean_solution = [True if set_index in solution else False for set_index in range(NUM_SETS)]  # [True, True, True, False, True]\n",
    "\n",
    "    return boolean_solution"
   ]
  },
  {
   "cell_type": "markdown",
   "metadata": {},
   "source": [
    "### Generation of neighbors"
   ]
  },
  {
   "cell_type": "code",
   "execution_count": 177,
   "metadata": {},
   "outputs": [],
   "source": [
    "\n",
    "def get_neighbors(solution: np.ndarray) -> list[np.ndarray]:\n",
    "    neighborhood = []\n",
    "    for set_index in range(NUM_SETS):\n",
    "        new_solution = solution.copy()\n",
    "        new_solution[set_index] = not new_solution[set_index]\n",
    "        if(valid(new_solution)):\n",
    "            neighborhood.append(new_solution)\n",
    "    return neighborhood"
   ]
  },
  {
   "cell_type": "markdown",
   "metadata": {},
   "source": [
    "### Algorithm"
   ]
  },
  {
   "cell_type": "markdown",
   "metadata": {},
   "source": [
    "The *while* loop continues searching for an optimal solution until the defined condition is met. If after a precise number of iterations there are no more improvements in fitness (stagnation), the loops stops and the algorithm ends its search."
   ]
  },
  {
   "cell_type": "code",
   "execution_count": 178,
   "metadata": {},
   "outputs": [
    {
     "name": "stdout",
     "output_type": "stream",
     "text": [
      "Initial fitness: -2236949.9213957973\n"
     ]
    },
    {
     "ename": "KeyboardInterrupt",
     "evalue": "",
     "output_type": "error",
     "traceback": [
      "\u001b[1;31m---------------------------------------------------------------------------\u001b[0m",
      "\u001b[1;31mKeyboardInterrupt\u001b[0m                         Traceback (most recent call last)",
      "Cell \u001b[1;32mIn[178], line 14\u001b[0m\n\u001b[0;32m     10\u001b[0m history \u001b[38;5;241m=\u001b[39m [\u001b[38;5;28mfloat\u001b[39m(fitness_best_solution[\u001b[38;5;241m1\u001b[39m])]\n\u001b[0;32m     12\u001b[0m \u001b[38;5;28;01mwhile\u001b[39;00m no_improvements \u001b[38;5;241m<\u001b[39m\u001b[38;5;241m=\u001b[39m ITERATION_NO_IMPROVEMENTS:\n\u001b[0;32m     13\u001b[0m     \u001b[38;5;66;03m# CANDIDATE LIST OF NEIGHBORS TO CURRENT BEST SOLUTION\u001b[39;00m\n\u001b[1;32m---> 14\u001b[0m     neighbors \u001b[38;5;241m=\u001b[39m \u001b[43mget_neighbors\u001b[49m\u001b[43m(\u001b[49m\u001b[43mbest_neighbor\u001b[49m\u001b[43m)\u001b[49m\n\u001b[0;32m     15\u001b[0m     improved \u001b[38;5;241m=\u001b[39m \u001b[38;5;28;01mFalse\u001b[39;00m\n\u001b[0;32m     17\u001b[0m     \u001b[38;5;66;03m# FIND THE BEST CANDIDATE FROM THE CANDIDATE LIST\u001b[39;00m\n",
      "Cell \u001b[1;32mIn[177], line 6\u001b[0m, in \u001b[0;36mget_neighbors\u001b[1;34m(solution)\u001b[0m\n\u001b[0;32m      4\u001b[0m     new_solution \u001b[38;5;241m=\u001b[39m solution\u001b[38;5;241m.\u001b[39mcopy()\n\u001b[0;32m      5\u001b[0m     new_solution[set_index] \u001b[38;5;241m=\u001b[39m \u001b[38;5;129;01mnot\u001b[39;00m new_solution[set_index]\n\u001b[1;32m----> 6\u001b[0m     \u001b[38;5;28;01mif\u001b[39;00m(\u001b[43mvalid\u001b[49m\u001b[43m(\u001b[49m\u001b[43mnew_solution\u001b[49m\u001b[43m)\u001b[49m):\n\u001b[0;32m      7\u001b[0m         neighborhood\u001b[38;5;241m.\u001b[39mappend(new_solution)\n\u001b[0;32m      8\u001b[0m \u001b[38;5;28;01mreturn\u001b[39;00m neighborhood\n",
      "Cell \u001b[1;32mIn[171], line 3\u001b[0m, in \u001b[0;36mvalid\u001b[1;34m(solution)\u001b[0m\n\u001b[0;32m      1\u001b[0m \u001b[38;5;28;01mdef\u001b[39;00m \u001b[38;5;21mvalid\u001b[39m(solution):\n\u001b[0;32m      2\u001b[0m \u001b[38;5;250m    \u001b[39m\u001b[38;5;124;03m\"\"\"Checks wether solution is valid (ie. covers all universe)\"\"\"\u001b[39;00m\n\u001b[1;32m----> 3\u001b[0m     \u001b[38;5;28;01mreturn\u001b[39;00m np\u001b[38;5;241m.\u001b[39mall(\u001b[43mnp\u001b[49m\u001b[38;5;241;43m.\u001b[39;49m\u001b[43mlogical_or\u001b[49m\u001b[38;5;241;43m.\u001b[39;49m\u001b[43mreduce\u001b[49m\u001b[43m(\u001b[49m\u001b[43mSETS\u001b[49m\u001b[43m[\u001b[49m\u001b[43msolution\u001b[49m\u001b[43m]\u001b[49m\u001b[43m)\u001b[49m)\n",
      "\u001b[1;31mKeyboardInterrupt\u001b[0m: "
     ]
    }
   ],
   "source": [
    "# INITIALIZE CURRENT SOLUTION\n",
    "initial_solution = greedy_initial_solution()\n",
    "\n",
    "best_solution = initial_solution\n",
    "best_neighbor = initial_solution\n",
    "fitness_best_solution = fitness(best_solution)\n",
    "print(f\"Initial fitness: {fitness_best_solution[1]}\")\n",
    "no_improvements = 0\n",
    "tabu_list = [initial_solution]\n",
    "history = [float(fitness_best_solution[1])]\n",
    "\n",
    "while no_improvements <= ITERATION_NO_IMPROVEMENTS:\n",
    "    # CANDIDATE LIST OF NEIGHBORS TO CURRENT BEST SOLUTION\n",
    "    neighbors = get_neighbors(best_neighbor)\n",
    "    improved = False\n",
    "\n",
    "    # FIND THE BEST CANDIDATE FROM THE CANDIDATE LIST\n",
    "    best_neighbor_fitness = (True, float('-inf'))\n",
    "    for neighbor in neighbors:\n",
    "        fitness_neighbor = fitness(neighbor)\n",
    "        if(fitness_neighbor > best_neighbor_fitness and     # lexicographic comparison\n",
    "            not any(np.array_equal(neighbor, tabu) for tabu in tabu_list)):\n",
    "            best_neighbor = neighbor\n",
    "            best_neighbor_fitness = fitness_neighbor\n",
    "    \n",
    "    # NO NEIGHBORS, NOT IN THE TABU LIST\n",
    "    if best_neighbor_fitness == float('-inf'):\n",
    "        break\n",
    "\n",
    "    # UPDATE SOLUTION AND TABU LIST\n",
    "    history.append(float(best_neighbor_fitness[1]))\n",
    "    if best_neighbor_fitness > fitness_best_solution:\n",
    "        improved = True     \n",
    "        no_improvements = 0 \n",
    "        best_solution = best_neighbor\n",
    "        fitness_best_solution = best_neighbor_fitness\n",
    "\n",
    "    tabu_list.append(best_neighbor)\n",
    "    if len(tabu_list) > TABU_SIZE:\n",
    "        tabu_list.pop(0)\n",
    "\n",
    "    if not improved:\n",
    "        no_improvements += 1\n",
    "\n",
    "print(f\"Final fitness: {fitness_best_solution[1]}\")\n",
    "selected_sets = [i for i in range(NUM_SETS) if best_solution[i] == True]\n",
    "print(f\"Selected sets: {selected_sets}\")"
   ]
  },
  {
   "cell_type": "markdown",
   "metadata": {},
   "source": [
    "### Plots and conclusions"
   ]
  },
  {
   "cell_type": "code",
   "execution_count": null,
   "metadata": {},
   "outputs": [],
   "source": [
    "plt.figure(figsize=(14, 8))\n",
    "plt.plot(range(len(history)), list(accumulate(history, max)), color = \"red\")\n",
    "_ = plt.scatter(range(len(history)), history, marker=\".\")\n",
    "plt.xlabel(\"Iterations\")\n",
    "plt.ylabel(\"Fitness\")"
   ]
  }
 ],
 "metadata": {
  "kernelspec": {
   "display_name": "CI2024",
   "language": "python",
   "name": "python3"
  },
  "language_info": {
   "codemirror_mode": {
    "name": "ipython",
    "version": 3
   },
   "file_extension": ".py",
   "mimetype": "text/x-python",
   "name": "python",
   "nbconvert_exporter": "python",
   "pygments_lexer": "ipython3",
   "version": "3.10.11"
  }
 },
 "nbformat": 4,
 "nbformat_minor": 4
}
